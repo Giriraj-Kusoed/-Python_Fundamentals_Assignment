{
  "nbformat": 4,
  "nbformat_minor": 0,
  "metadata": {
    "colab": {
      "provenance": []
    },
    "kernelspec": {
      "name": "python3",
      "display_name": "Python 3"
    },
    "language_info": {
      "name": "python"
    }
  },
  "cells": [
    {
      "cell_type": "markdown",
      "source": [
        "# ***Gym Fitness Prediction App   - Giriraj Gautam***"
      ],
      "metadata": {
        "id": "kUAcnWUrtqdP"
      }
    },
    {
      "cell_type": "markdown",
      "source": [
        "### **Python**"
      ],
      "metadata": {
        "id": "xyE9dpS9agOT"
      }
    },
    {
      "cell_type": "code",
      "source": [
        "# code to predict calories burned based on user input\n",
        "\n",
        "\n",
        "def predicting_calories_burned(Session_duration, Gender, Age, Avg_BPM, Height, Weight):\n",
        "  if Gender.lower() == 'male':                              # for male\n",
        "    bmr = 10 * Weight + 6.25 * Height - 5 * Age + 5\n",
        "\n",
        "  else:                                                      #  for female\n",
        "    bmr = 10 * Weight + 6.25 * Height - 5 * Age - 161\n",
        "\n",
        "   # Estimating MET factor based on average BPM\n",
        "  if Avg_BPM < 60:\n",
        "    met_factor = 1.2\n",
        "  elif 60 <= Avg_BPM < 90:\n",
        "    met_factor = 3.0\n",
        "  elif 90 <= Avg_BPM < 120:\n",
        "    met_factor = 5.5\n",
        "  else:\n",
        "    met_factor = 8.0\n",
        "\n",
        "  calories_burned = (Session_duration * bmr * met_factor) / 1440\n",
        "  return calories_burned\n",
        "\n",
        "# Getting user input for prediction\n",
        "\n",
        "Age = int(input(\"Enter your age: \"))\n",
        "Gender = input(\"Enter your gender (Male/Female): \").lower()  # to uncapitalize the words\n",
        "Weight = float(input(\"Enter your weight (kg): \"))\n",
        "Height = float(input(\"Enter your height (cm): \"))\n",
        "Session_duration = float(input(\"Enter the duration of the activity (minutes): \"))\n",
        "Avg_BPM = float(input(\"Enter the average BPM during the activity: \"))\n",
        "\n",
        "\n",
        "calories = predicting_calories_burned(Age, Gender, Weight, Height, Session_duration, Avg_BPM)\n",
        "print(f\"\\n\\n\\nPredicted calories burned: {calories:.2f} kcal\")"
      ],
      "metadata": {
        "colab": {
          "base_uri": "https://localhost:8080/"
        },
        "id": "xdD5hAYAZuHd",
        "outputId": "ac50496d-ba06-4428-c4c8-2d3a0d4cd659"
      },
      "execution_count": null,
      "outputs": [
        {
          "output_type": "stream",
          "name": "stdout",
          "text": [
            "Enter your age: 25\n",
            "Enter your gender (Male/Female): MALE\n",
            "Enter your weight (kg): 56\n",
            "Enter your height (cm): 345\n",
            "Enter the duration of the activity (minutes): 50\n",
            "Enter the average BPM during the activity: 234\n",
            "\n",
            "\n",
            "\n",
            "Predicted calories burned: 330.21 kcal\n"
          ]
        }
      ]
    },
    {
      "cell_type": "markdown",
      "source": [
        "# **Data Handling and Machine Learning**"
      ],
      "metadata": {
        "id": "k5Ef9cvQaBh0"
      }
    },
    {
      "cell_type": "code",
      "execution_count": null,
      "metadata": {
        "id": "dwjUZn7PmOqV"
      },
      "outputs": [],
      "source": [
        "import numpy as np\n",
        "import pandas as pd\n",
        "import matplotlib.pyplot as plt\n",
        "import torch\n",
        "import torch.nn as nn\n",
        "import torch.optim as optim\n",
        "from sklearn.preprocessing import StandardScaler"
      ]
    },
    {
      "cell_type": "code",
      "source": [
        "# loading given dataset\n",
        "\n",
        "given=\"https://raw.githubusercontent.com/sayande01/Kaggle_Notebooks/refs/heads/main/gym_members_exercise_tracking.csv\"\n",
        "dataset=pd.read_csv(given)"
      ],
      "metadata": {
        "id": "HZ6clEL8nTWN"
      },
      "execution_count": null,
      "outputs": []
    },
    {
      "cell_type": "code",
      "source": [
        "# printing first few rows (to check structure)\n",
        "\n",
        "print(dataset.head(3))"
      ],
      "metadata": {
        "colab": {
          "base_uri": "https://localhost:8080/"
        },
        "id": "e3g0ZYxMXGvP",
        "outputId": "accf6117-3a8b-45f8-afbb-540f26740130"
      },
      "execution_count": null,
      "outputs": [
        {
          "output_type": "stream",
          "name": "stdout",
          "text": [
            "   Age  Gender  Weight (kg)  Height (m)  Max_BPM  Avg_BPM  Resting_BPM  \\\n",
            "0   56    Male         88.3        1.71      180      157           60   \n",
            "1   46  Female         74.9        1.53      179      151           66   \n",
            "2   32  Female         68.1        1.66      167      122           54   \n",
            "\n",
            "   Session_Duration (hours)  Calories_Burned Workout_Type  Fat_Percentage  \\\n",
            "0                      1.69           1313.0         Yoga            12.6   \n",
            "1                      1.30            883.0         HIIT            33.9   \n",
            "2                      1.11            677.0       Cardio            33.4   \n",
            "\n",
            "   Water_Intake (liters)  Workout_Frequency (days/week)  Experience_Level  \\\n",
            "0                    3.5                              4                 3   \n",
            "1                    2.1                              4                 2   \n",
            "2                    2.3                              4                 2   \n",
            "\n",
            "     BMI  \n",
            "0  30.20  \n",
            "1  32.00  \n",
            "2  24.71  \n"
          ]
        }
      ]
    },
    {
      "cell_type": "code",
      "source": [
        "# to check about missing values\n",
        "\n",
        "print(dataset.isnull().sum())"
      ],
      "metadata": {
        "colab": {
          "base_uri": "https://localhost:8080/"
        },
        "id": "CN-xMjedniav",
        "outputId": "8761cf66-7e85-45af-e84d-fae3f4aa6a68"
      },
      "execution_count": null,
      "outputs": [
        {
          "output_type": "stream",
          "name": "stdout",
          "text": [
            "Age                              0\n",
            "Gender                           0\n",
            "Weight (kg)                      0\n",
            "Height (m)                       0\n",
            "Max_BPM                          0\n",
            "Avg_BPM                          0\n",
            "Resting_BPM                      0\n",
            "Session_Duration (hours)         0\n",
            "Calories_Burned                  0\n",
            "Workout_Type                     0\n",
            "Fat_Percentage                   0\n",
            "Water_Intake (liters)            0\n",
            "Workout_Frequency (days/week)    0\n",
            "Experience_Level                 0\n",
            "BMI                              0\n",
            "dtype: int64\n"
          ]
        }
      ]
    },
    {
      "cell_type": "code",
      "source": [
        "# defining X and y\n",
        "\n",
        "y = dataset['Calories_Burned']\n",
        "X = dataset.drop(['Calories_Burned', 'Workout_Type', 'Gender'], axis=1)"
      ],
      "metadata": {
        "id": "-S4KybXHnq67"
      },
      "execution_count": null,
      "outputs": []
    },
    {
      "cell_type": "code",
      "source": [
        "print(X.head(2))"
      ],
      "metadata": {
        "colab": {
          "base_uri": "https://localhost:8080/"
        },
        "id": "_TP8ENAnntwQ",
        "outputId": "b16d6956-5f6c-4d6c-dc04-e44820530157"
      },
      "execution_count": null,
      "outputs": [
        {
          "output_type": "stream",
          "name": "stdout",
          "text": [
            "   Age  Weight (kg)  Height (m)  Max_BPM  Avg_BPM  Resting_BPM  \\\n",
            "0   56         88.3        1.71      180      157           60   \n",
            "1   46         74.9        1.53      179      151           66   \n",
            "\n",
            "   Session_Duration (hours)  Fat_Percentage  Water_Intake (liters)  \\\n",
            "0                      1.69            12.6                    3.5   \n",
            "1                      1.30            33.9                    2.1   \n",
            "\n",
            "   Workout_Frequency (days/week)  Experience_Level   BMI  \n",
            "0                              4                 3  30.2  \n",
            "1                              4                 2  32.0  \n"
          ]
        }
      ]
    },
    {
      "cell_type": "code",
      "source": [
        "from sklearn.model_selection import train_test_split\n",
        "\n",
        "\n",
        "scaler=StandardScaler()\n",
        "X_train, X_test, y_train, y_test = train_test_split(X, y, test_size = 0.25, random_state = 2509)\n",
        "X_train = scaler.fit_transform(X_train)\n",
        "X_test = scaler.transform(X_test)"
      ],
      "metadata": {
        "id": "j2c5Utyqnw5D"
      },
      "execution_count": null,
      "outputs": []
    },
    {
      "cell_type": "code",
      "source": [
        "X_train_tensor = torch.tensor(X_train, dtype=torch.float32)\n",
        "X_test_tensor = torch.tensor(X_test, dtype=torch.float32)\n",
        "y_train_tensor = torch.tensor(y_train.values, dtype=torch.float32)\n",
        "y_test_tensor = torch.tensor(y_test.values, dtype=torch.float32)"
      ],
      "metadata": {
        "id": "WBd3B7ItnzIj"
      },
      "execution_count": null,
      "outputs": []
    },
    {
      "cell_type": "code",
      "source": [
        "class RegressionModel(nn.Module):\n",
        "  def __init__(self):\n",
        "    super(RegressionModel, self).__init__()\n",
        "    self.layer1=nn.Linear(12,1)\n",
        "\n",
        "  def forward(self,x):\n",
        "    x=self.layer1(x)\n",
        "    return x"
      ],
      "metadata": {
        "id": "7Wu6Lk9in1N_"
      },
      "execution_count": null,
      "outputs": []
    },
    {
      "cell_type": "code",
      "source": [
        "model:RegressionModel=RegressionModel()\n"
      ],
      "metadata": {
        "id": "z9dUZkzjn29L"
      },
      "execution_count": null,
      "outputs": []
    },
    {
      "cell_type": "code",
      "source": [
        "\n",
        "loss = nn.MSELoss()\n",
        "optimizer = optim.SGD(model.parameters(), lr=0.003)"
      ],
      "metadata": {
        "id": "L-tsOfw-n4kL"
      },
      "execution_count": null,
      "outputs": []
    },
    {
      "cell_type": "code",
      "source": [
        "train_loss=[]\n",
        "test_loss=[]\n",
        "train_accuracy=[]\n",
        "train_loss=[]"
      ],
      "metadata": {
        "id": "t-VLUNNxn-Gf"
      },
      "execution_count": null,
      "outputs": []
    },
    {
      "cell_type": "code",
      "source": [
        "num_epochs = 5000\n",
        "train_losses = []  # Initializing the list for storing training losses\n",
        "test_losses = []  # Initializing the list for storing test losses\n",
        "\n",
        "for ep in range(num_epochs):\n",
        "    model.train()     # Training model\n",
        "\n",
        "    # Forward pass\n",
        "    predicted_y = model(X_train_tensor).squeeze()\n",
        "    y_train = y_train_tensor.squeeze()\n",
        "    losses = loss(predicted_y, y_train_tensor)\n",
        "\n",
        "    # Backward pass and optimization\n",
        "    optimizer.zero_grad()    # Zero the gradients before the backward pass\n",
        "    losses.backward()       # Backpropagation\n",
        "    optimizer.step()         # Update the model parameters\n",
        "\n",
        "    # Print training loss every 100 epochs\n",
        "    if ep % 100 == 0:\n",
        "        print(f\"Epoch [{ep}/{num_epochs}], Training Loss: {losses.item()}\")\n",
        "\n",
        "    train_losses.append(losses.item())      # Append the training loss to the list\n",
        "\n",
        "    # Evaluate on test set\n",
        "    model.eval()  # Set model to evaluation mode\n",
        "\n",
        "    with torch.no_grad():  # No gradients needed for evaluation\n",
        "        predicted_y_test = model(X_test_tensor).squeeze()\n",
        "        y_test=y_test_tensor.squeeze()\n",
        "        test_loss = loss(predicted_y_test, y_test_tensor)\n",
        "\n",
        "    # Append the test loss to the list\n",
        "    test_losses.append(test_loss.item())\n",
        "\n",
        "    # Print test loss every 100 epochs\n",
        "    if ep % 100 == 0:\n",
        "        print(f\"Epoch [{ep}/{num_epochs}], Test Loss: {test_loss.item()}\")"
      ],
      "metadata": {
        "colab": {
          "base_uri": "https://localhost:8080/"
        },
        "id": "cq47zx6Hn_sH",
        "outputId": "4624319f-1cdd-4b0e-cd8e-9c15755df80d"
      },
      "execution_count": null,
      "outputs": [
        {
          "output_type": "stream",
          "name": "stdout",
          "text": [
            "Epoch [0/5000], Training Loss: 886918.5625\n",
            "Epoch [0/5000], Test Loss: 900863.75\n",
            "Epoch [100/5000], Training Loss: 259500.1875\n",
            "Epoch [100/5000], Test Loss: 252231.328125\n",
            "Epoch [200/5000], Training Loss: 82286.7578125\n",
            "Epoch [200/5000], Test Loss: 79579.53125\n",
            "Epoch [300/5000], Training Loss: 28286.74609375\n",
            "Epoch [300/5000], Test Loss: 27591.177734375\n",
            "Epoch [400/5000], Training Loss: 11385.0869140625\n",
            "Epoch [400/5000], Test Loss: 11294.451171875\n",
            "Epoch [500/5000], Training Loss: 5853.48828125\n",
            "Epoch [500/5000], Test Loss: 5915.4130859375\n",
            "Epoch [600/5000], Training Loss: 3890.80029296875\n",
            "Epoch [600/5000], Test Loss: 3977.145263671875\n",
            "Epoch [700/5000], Training Loss: 3101.016845703125\n",
            "Epoch [700/5000], Test Loss: 3180.12060546875\n",
            "Epoch [800/5000], Training Loss: 2729.7275390625\n",
            "Epoch [800/5000], Test Loss: 2796.460693359375\n",
            "Epoch [900/5000], Training Loss: 2527.67138671875\n",
            "Epoch [900/5000], Test Loss: 2583.234375\n",
            "Epoch [1000/5000], Training Loss: 2405.19970703125\n",
            "Epoch [1000/5000], Test Loss: 2451.700927734375\n",
            "Epoch [1100/5000], Training Loss: 2325.741455078125\n",
            "Epoch [1100/5000], Test Loss: 2364.961181640625\n",
            "Epoch [1200/5000], Training Loss: 2271.985595703125\n",
            "Epoch [1200/5000], Test Loss: 2305.264892578125\n",
            "Epoch [1300/5000], Training Loss: 2234.57373046875\n",
            "Epoch [1300/5000], Test Loss: 2262.897216796875\n",
            "Epoch [1400/5000], Training Loss: 2207.945068359375\n",
            "Epoch [1400/5000], Test Loss: 2232.053955078125\n",
            "Epoch [1500/5000], Training Loss: 2188.600830078125\n",
            "Epoch [1500/5000], Test Loss: 2209.08203125\n",
            "Epoch [1600/5000], Training Loss: 2174.2705078125\n",
            "Epoch [1600/5000], Test Loss: 2191.586669921875\n",
            "Epoch [1700/5000], Training Loss: 2163.44677734375\n",
            "Epoch [1700/5000], Test Loss: 2177.986572265625\n",
            "Epoch [1800/5000], Training Loss: 2155.115234375\n",
            "Epoch [1800/5000], Test Loss: 2167.205322265625\n",
            "Epoch [1900/5000], Training Loss: 2148.587890625\n",
            "Epoch [1900/5000], Test Loss: 2158.502197265625\n",
            "Epoch [2000/5000], Training Loss: 2143.386474609375\n",
            "Epoch [2000/5000], Test Loss: 2151.36376953125\n",
            "Epoch [2100/5000], Training Loss: 2139.17626953125\n",
            "Epoch [2100/5000], Test Loss: 2145.434814453125\n",
            "Epoch [2200/5000], Training Loss: 2135.723876953125\n",
            "Epoch [2200/5000], Test Loss: 2140.439453125\n",
            "Epoch [2300/5000], Training Loss: 2132.85693359375\n",
            "Epoch [2300/5000], Test Loss: 2136.18603515625\n",
            "Epoch [2400/5000], Training Loss: 2130.4501953125\n",
            "Epoch [2400/5000], Test Loss: 2132.533203125\n",
            "Epoch [2500/5000], Training Loss: 2128.41015625\n",
            "Epoch [2500/5000], Test Loss: 2129.36669921875\n",
            "Epoch [2600/5000], Training Loss: 2126.666259765625\n",
            "Epoch [2600/5000], Test Loss: 2126.60693359375\n",
            "Epoch [2700/5000], Training Loss: 2125.16357421875\n",
            "Epoch [2700/5000], Test Loss: 2124.178466796875\n",
            "Epoch [2800/5000], Training Loss: 2123.859619140625\n",
            "Epoch [2800/5000], Test Loss: 2122.035888671875\n",
            "Epoch [2900/5000], Training Loss: 2122.71923828125\n",
            "Epoch [2900/5000], Test Loss: 2120.13232421875\n",
            "Epoch [3000/5000], Training Loss: 2121.716064453125\n",
            "Epoch [3000/5000], Test Loss: 2118.431884765625\n",
            "Epoch [3100/5000], Training Loss: 2120.827392578125\n",
            "Epoch [3100/5000], Test Loss: 2116.90185546875\n",
            "Epoch [3200/5000], Training Loss: 2120.035400390625\n",
            "Epoch [3200/5000], Test Loss: 2115.52392578125\n",
            "Epoch [3300/5000], Training Loss: 2119.3251953125\n",
            "Epoch [3300/5000], Test Loss: 2114.2724609375\n",
            "Epoch [3400/5000], Training Loss: 2118.682373046875\n",
            "Epoch [3400/5000], Test Loss: 2113.12939453125\n",
            "Epoch [3500/5000], Training Loss: 2118.10009765625\n",
            "Epoch [3500/5000], Test Loss: 2112.08544921875\n",
            "Epoch [3600/5000], Training Loss: 2117.5654296875\n",
            "Epoch [3600/5000], Test Loss: 2111.125732421875\n",
            "Epoch [3700/5000], Training Loss: 2117.07470703125\n",
            "Epoch [3700/5000], Test Loss: 2110.23779296875\n",
            "Epoch [3800/5000], Training Loss: 2116.61962890625\n",
            "Epoch [3800/5000], Test Loss: 2109.408935546875\n",
            "Epoch [3900/5000], Training Loss: 2116.196533203125\n",
            "Epoch [3900/5000], Test Loss: 2108.64111328125\n",
            "Epoch [4000/5000], Training Loss: 2115.7978515625\n",
            "Epoch [4000/5000], Test Loss: 2107.91796875\n",
            "Epoch [4100/5000], Training Loss: 2115.4248046875\n",
            "Epoch [4100/5000], Test Loss: 2107.238525390625\n",
            "Epoch [4200/5000], Training Loss: 2115.0693359375\n",
            "Epoch [4200/5000], Test Loss: 2106.600830078125\n",
            "Epoch [4300/5000], Training Loss: 2114.732421875\n",
            "Epoch [4300/5000], Test Loss: 2105.994140625\n",
            "Epoch [4400/5000], Training Loss: 2114.40869140625\n",
            "Epoch [4400/5000], Test Loss: 2105.417724609375\n",
            "Epoch [4500/5000], Training Loss: 2114.09814453125\n",
            "Epoch [4500/5000], Test Loss: 2104.867431640625\n",
            "Epoch [4600/5000], Training Loss: 2113.80029296875\n",
            "Epoch [4600/5000], Test Loss: 2104.339111328125\n",
            "Epoch [4700/5000], Training Loss: 2113.51123046875\n",
            "Epoch [4700/5000], Test Loss: 2103.833984375\n",
            "Epoch [4800/5000], Training Loss: 2113.230712890625\n",
            "Epoch [4800/5000], Test Loss: 2103.34619140625\n",
            "Epoch [4900/5000], Training Loss: 2112.957763671875\n",
            "Epoch [4900/5000], Test Loss: 2102.876708984375\n"
          ]
        }
      ]
    },
    {
      "cell_type": "code",
      "source": [
        "predicted_y_test = predicted_y_test.numpy()  # Convert PyTorch tensor to numpy\n",
        "y_test = y_test_tensor.numpy()  # Convert PyTorch tensor to numpy\n",
        "\n",
        "# Create a dictionary with the two arrays\n",
        "d = {'y_pred': predicted_y_test.flatten(), 'y_test': y_test.flatten()}\n",
        "\n",
        "# Create a DataFrame\n",
        "df = pd.DataFrame(d)\n",
        "\n",
        "# Print the DataFrame\n",
        "print(df)"
      ],
      "metadata": {
        "colab": {
          "base_uri": "https://localhost:8080/"
        },
        "id": "SCvzfQu2oBYM",
        "outputId": "518dfbbb-54dd-480a-d61d-f74c01107f28"
      },
      "execution_count": null,
      "outputs": [
        {
          "output_type": "stream",
          "name": "stdout",
          "text": [
            "          y_pred  y_test\n",
            "0     738.047729   796.0\n",
            "1     604.532776   643.0\n",
            "2     815.531311   740.0\n",
            "3     256.281647   331.0\n",
            "4    1070.452881  1151.0\n",
            "..           ...     ...\n",
            "239   257.689697   330.0\n",
            "240   989.200256   977.0\n",
            "241  1382.202026  1345.0\n",
            "242  1008.578003  1017.0\n",
            "243   671.093628   707.0\n",
            "\n",
            "[244 rows x 2 columns]\n"
          ]
        }
      ]
    },
    {
      "cell_type": "code",
      "source": [
        "from sklearn.metrics import mean_squared_error, mean_absolute_error, r2_score\n",
        "\n",
        "mse = mean_squared_error(y_test, predicted_y_test)\n",
        "mae = mean_absolute_error(y_test, predicted_y_test)\n",
        "r2 = r2_score(y_test, predicted_y_test)\n",
        "\n",
        "print(f\"Mean Squared Error (MSE): {mse}\")\n",
        "print(f\"Mean Absolute Error (MAE): {mae}\")\n",
        "print(f\"R-squared (R²): {r2}\")"
      ],
      "metadata": {
        "colab": {
          "base_uri": "https://localhost:8080/"
        },
        "id": "5a80yYfooD-P",
        "outputId": "71f08715-f4e8-433f-fab6-2612498b4ea6"
      },
      "execution_count": null,
      "outputs": [
        {
          "output_type": "stream",
          "name": "stdout",
          "text": [
            "Mean Squared Error (MSE): 2102.429443359375\n",
            "Mean Absolute Error (MAE): 35.98392105102539\n",
            "R-squared (R²): 0.9721274971961975\n"
          ]
        }
      ]
    },
    {
      "cell_type": "code",
      "source": [
        "\n",
        "\n",
        "\n",
        "\n",
        "import matplotlib.pyplot as plt\n",
        "\n",
        "plt.scatter(y_test, predicted_y_test)\n",
        "plt.xlabel(\"True values (y_test)\")\n",
        "plt.ylabel(\"Predicted values (y_pred)\")\n",
        "plt.title(\"True vs Predicted values\")\n",
        "plt.plot([min(y_test), max(y_test)], [min(y_test), max(y_test)], color='r', linestyle='--')\n",
        "plt.show()"
      ],
      "metadata": {
        "colab": {
          "base_uri": "https://localhost:8080/",
          "height": 472
        },
        "id": "ikga3t70oGhX",
        "outputId": "3a78a368-d1ff-4c19-8603-3c8faf7c9712"
      },
      "execution_count": null,
      "outputs": [
        {
          "output_type": "display_data",
          "data": {
            "text/plain": [
              "<Figure size 640x480 with 1 Axes>"
            ],
            "image/png": "[encoded data removed]"
          },
          "metadata": {}
        }
      ]
    },
    {
      "cell_type": "code",
      "source": [],
      "metadata": {
        "id": "FeDT109UVnQl"
      },
      "execution_count": null,
      "outputs": []
    }
  ]
}